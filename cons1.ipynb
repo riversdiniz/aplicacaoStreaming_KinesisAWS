{
  "nbformat": 4,
  "nbformat_minor": 0,
  "metadata": {
    "colab": {
      "provenance": []
    },
    "kernelspec": {
      "name": "python3",
      "display_name": "Python 3"
    },
    "language_info": {
      "name": "python"
    }
  },
  "cells": [
    {
      "cell_type": "code",
      "execution_count": null,
      "metadata": {
        "id": "i6EigC9fJaZp"
      },
      "outputs": [],
      "source": [
        "!pip install boto3"
      ]
    },
    {
      "cell_type": "code",
      "source": [
        "import boto3\n",
        "\n",
        "cliente = boto3.client('kinesis',aws_access_key_id='',aws_secret_access_key='',\n",
        "                       region_name='us-east-1')\n",
        "\n",
        "shard = cliente.get_shard_iterator(\n",
        "            StreamName=\"stream1\",\n",
        "            ShardId = 'shardId-000000000002',\n",
        "            ShardIteratorType = 'LATEST'\n",
        "            )[\"ShardIterator\"]\n",
        "\n",
        "\n",
        "while shard is not None:\n",
        "  resultado = cliente.get_records(ShardIterator=shard)\n",
        "  registros = resultado['Records']\n",
        "  shard = resultado[\"NextShardIterator\"]\n",
        "  for registro in registros:\n",
        "    print(registro[\"SequenceNumber\"])\n",
        "    print(registro[\"ApproximateArrivalTimestamp\"])\n",
        "    print(registro[\"PartitionKey\"])\n",
        "    print(registro[\"Data\"])    "
      ],
      "metadata": {
        "id": "BZPIy87LRZmK"
      },
      "execution_count": null,
      "outputs": []
    },
    {
      "cell_type": "code",
      "source": [],
      "metadata": {
        "id": "ch97VqCxStqo"
      },
      "execution_count": null,
      "outputs": []
    }
  ]
}